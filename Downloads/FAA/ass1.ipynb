{
 "cells": [
  {
   "cell_type": "code",
   "execution_count": 1,
   "metadata": {
    "_cell_guid": "b1076dfc-b9ad-4769-8c92-a6c4dae69d19",
    "_uuid": "8f2839f25d086af736a60e9eeb907d3b93b6e0e5",
    "execution": {
     "iopub.execute_input": "2025-10-28T07:05:41.505886Z",
     "iopub.status.busy": "2025-10-28T07:05:41.505566Z",
     "iopub.status.idle": "2025-10-28T07:05:46.316582Z",
     "shell.execute_reply": "2025-10-28T07:05:46.314893Z",
     "shell.execute_reply.started": "2025-10-28T07:05:41.505863Z"
    }
   },
   "outputs": [
    {
     "ename": "ValueError",
     "evalue": "numpy.dtype size changed, may indicate binary incompatibility. Expected 96 from C header, got 88 from PyObject",
     "output_type": "error",
     "traceback": [
      "\u001b[1;31m---------------------------------------------------------------------------\u001b[0m",
      "\u001b[1;31mValueError\u001b[0m                                Traceback (most recent call last)",
      "Cell \u001b[1;32mIn[1], line 5\u001b[0m\n\u001b[0;32m      2\u001b[0m get_ipython()\u001b[38;5;241m.\u001b[39msystem(\u001b[38;5;124m'\u001b[39m\u001b[38;5;124mpip install yfinance --quiet\u001b[39m\u001b[38;5;124m'\u001b[39m)\n\u001b[0;32m      4\u001b[0m \u001b[38;5;66;03m# Importing essential libraries\u001b[39;00m\n\u001b[1;32m----> 5\u001b[0m \u001b[38;5;28;01mimport\u001b[39;00m \u001b[38;5;21;01myfinance\u001b[39;00m \u001b[38;5;28;01mas\u001b[39;00m \u001b[38;5;21;01myf\u001b[39;00m\n\u001b[0;32m      6\u001b[0m \u001b[38;5;28;01mimport\u001b[39;00m \u001b[38;5;21;01mpandas\u001b[39;00m \u001b[38;5;28;01mas\u001b[39;00m \u001b[38;5;21;01mpd\u001b[39;00m\n\u001b[0;32m      7\u001b[0m \u001b[38;5;28;01mimport\u001b[39;00m \u001b[38;5;21;01mnumpy\u001b[39;00m \u001b[38;5;28;01mas\u001b[39;00m \u001b[38;5;21;01mnp\u001b[39;00m\n",
      "File \u001b[1;32m~\\anaconda4\\Lib\\site-packages\\yfinance\\__init__.py:23\u001b[0m\n\u001b[0;32m      1\u001b[0m \u001b[38;5;66;03m#!/usr/bin/env python\u001b[39;00m\n\u001b[0;32m      2\u001b[0m \u001b[38;5;66;03m# -*- coding: utf-8 -*-\u001b[39;00m\n\u001b[0;32m      3\u001b[0m \u001b[38;5;66;03m#\u001b[39;00m\n\u001b[1;32m   (...)\u001b[0m\n\u001b[0;32m     19\u001b[0m \u001b[38;5;66;03m# limitations under the License.\u001b[39;00m\n\u001b[0;32m     20\u001b[0m \u001b[38;5;66;03m#\u001b[39;00m\n\u001b[0;32m     22\u001b[0m \u001b[38;5;28;01mfrom\u001b[39;00m \u001b[38;5;21;01m.\u001b[39;00m \u001b[38;5;28;01mimport\u001b[39;00m version\n\u001b[1;32m---> 23\u001b[0m \u001b[38;5;28;01mfrom\u001b[39;00m \u001b[38;5;21;01m.\u001b[39;00m\u001b[38;5;21;01msearch\u001b[39;00m \u001b[38;5;28;01mimport\u001b[39;00m Search\n\u001b[0;32m     24\u001b[0m \u001b[38;5;28;01mfrom\u001b[39;00m \u001b[38;5;21;01m.\u001b[39;00m\u001b[38;5;21;01mlookup\u001b[39;00m \u001b[38;5;28;01mimport\u001b[39;00m Lookup\n\u001b[0;32m     25\u001b[0m \u001b[38;5;28;01mfrom\u001b[39;00m \u001b[38;5;21;01m.\u001b[39;00m\u001b[38;5;21;01mticker\u001b[39;00m \u001b[38;5;28;01mimport\u001b[39;00m Ticker\n",
      "File \u001b[1;32m~\\anaconda4\\Lib\\site-packages\\yfinance\\search.py:25\u001b[0m\n\u001b[0;32m     22\u001b[0m \u001b[38;5;28;01mimport\u001b[39;00m \u001b[38;5;21;01mjson\u001b[39;00m \u001b[38;5;28;01mas\u001b[39;00m \u001b[38;5;21;01m_json\u001b[39;00m\n\u001b[0;32m     23\u001b[0m \u001b[38;5;28;01mimport\u001b[39;00m \u001b[38;5;21;01mwarnings\u001b[39;00m\n\u001b[1;32m---> 25\u001b[0m \u001b[38;5;28;01mfrom\u001b[39;00m \u001b[38;5;21;01m.\u001b[39;00m \u001b[38;5;28;01mimport\u001b[39;00m utils\n\u001b[0;32m     26\u001b[0m \u001b[38;5;28;01mfrom\u001b[39;00m \u001b[38;5;21;01m.\u001b[39;00m\u001b[38;5;21;01mconst\u001b[39;00m \u001b[38;5;28;01mimport\u001b[39;00m _BASE_URL_, _SENTINEL_\n\u001b[0;32m     27\u001b[0m \u001b[38;5;28;01mfrom\u001b[39;00m \u001b[38;5;21;01m.\u001b[39;00m\u001b[38;5;21;01mdata\u001b[39;00m \u001b[38;5;28;01mimport\u001b[39;00m YfData\n",
      "File \u001b[1;32m~\\anaconda4\\Lib\\site-packages\\yfinance\\utils.py:36\u001b[0m\n\u001b[0;32m     33\u001b[0m \u001b[38;5;28;01mfrom\u001b[39;00m \u001b[38;5;21;01mtyping\u001b[39;00m \u001b[38;5;28;01mimport\u001b[39;00m List, Optional\n\u001b[0;32m     35\u001b[0m \u001b[38;5;28;01mimport\u001b[39;00m \u001b[38;5;21;01mnumpy\u001b[39;00m \u001b[38;5;28;01mas\u001b[39;00m \u001b[38;5;21;01m_np\u001b[39;00m\n\u001b[1;32m---> 36\u001b[0m \u001b[38;5;28;01mimport\u001b[39;00m \u001b[38;5;21;01mpandas\u001b[39;00m \u001b[38;5;28;01mas\u001b[39;00m \u001b[38;5;21;01m_pd\u001b[39;00m\n\u001b[0;32m     37\u001b[0m \u001b[38;5;28;01mimport\u001b[39;00m \u001b[38;5;21;01mpytz\u001b[39;00m \u001b[38;5;28;01mas\u001b[39;00m \u001b[38;5;21;01m_tz\u001b[39;00m\n\u001b[0;32m     38\u001b[0m \u001b[38;5;28;01mfrom\u001b[39;00m \u001b[38;5;21;01mdateutil\u001b[39;00m\u001b[38;5;21;01m.\u001b[39;00m\u001b[38;5;21;01mrelativedelta\u001b[39;00m \u001b[38;5;28;01mimport\u001b[39;00m relativedelta\n",
      "File \u001b[1;32m~\\anaconda4\\Lib\\site-packages\\pandas\\__init__.py:22\u001b[0m\n\u001b[0;32m     19\u001b[0m \u001b[38;5;28;01mdel\u001b[39;00m _hard_dependencies, _dependency, _missing_dependencies\n\u001b[0;32m     21\u001b[0m \u001b[38;5;66;03m# numpy compat\u001b[39;00m\n\u001b[1;32m---> 22\u001b[0m \u001b[38;5;28;01mfrom\u001b[39;00m \u001b[38;5;21;01mpandas\u001b[39;00m\u001b[38;5;21;01m.\u001b[39;00m\u001b[38;5;21;01mcompat\u001b[39;00m \u001b[38;5;28;01mimport\u001b[39;00m is_numpy_dev \u001b[38;5;28;01mas\u001b[39;00m _is_numpy_dev  \u001b[38;5;66;03m# pyright: ignore # noqa:F401\u001b[39;00m\n\u001b[0;32m     24\u001b[0m \u001b[38;5;28;01mtry\u001b[39;00m:\n\u001b[0;32m     25\u001b[0m     \u001b[38;5;28;01mfrom\u001b[39;00m \u001b[38;5;21;01mpandas\u001b[39;00m\u001b[38;5;21;01m.\u001b[39;00m\u001b[38;5;21;01m_libs\u001b[39;00m \u001b[38;5;28;01mimport\u001b[39;00m hashtable \u001b[38;5;28;01mas\u001b[39;00m _hashtable, lib \u001b[38;5;28;01mas\u001b[39;00m _lib, tslib \u001b[38;5;28;01mas\u001b[39;00m _tslib\n",
      "File \u001b[1;32m~\\anaconda4\\Lib\\site-packages\\pandas\\compat\\__init__.py:25\u001b[0m\n\u001b[0;32m     17\u001b[0m \u001b[38;5;28;01mfrom\u001b[39;00m \u001b[38;5;21;01mpandas\u001b[39;00m\u001b[38;5;21;01m.\u001b[39;00m\u001b[38;5;21;01mcompat\u001b[39;00m\u001b[38;5;21;01m.\u001b[39;00m\u001b[38;5;21;01m_constants\u001b[39;00m \u001b[38;5;28;01mimport\u001b[39;00m (\n\u001b[0;32m     18\u001b[0m     IS64,\n\u001b[0;32m     19\u001b[0m     PY39,\n\u001b[1;32m   (...)\u001b[0m\n\u001b[0;32m     22\u001b[0m     PYPY,\n\u001b[0;32m     23\u001b[0m )\n\u001b[0;32m     24\u001b[0m \u001b[38;5;28;01mimport\u001b[39;00m \u001b[38;5;21;01mpandas\u001b[39;00m\u001b[38;5;21;01m.\u001b[39;00m\u001b[38;5;21;01mcompat\u001b[39;00m\u001b[38;5;21;01m.\u001b[39;00m\u001b[38;5;21;01mcompressors\u001b[39;00m\n\u001b[1;32m---> 25\u001b[0m \u001b[38;5;28;01mfrom\u001b[39;00m \u001b[38;5;21;01mpandas\u001b[39;00m\u001b[38;5;21;01m.\u001b[39;00m\u001b[38;5;21;01mcompat\u001b[39;00m\u001b[38;5;21;01m.\u001b[39;00m\u001b[38;5;21;01mnumpy\u001b[39;00m \u001b[38;5;28;01mimport\u001b[39;00m (\n\u001b[0;32m     26\u001b[0m     is_numpy_dev,\n\u001b[0;32m     27\u001b[0m     np_version_under1p21,\n\u001b[0;32m     28\u001b[0m )\n\u001b[0;32m     29\u001b[0m \u001b[38;5;28;01mfrom\u001b[39;00m \u001b[38;5;21;01mpandas\u001b[39;00m\u001b[38;5;21;01m.\u001b[39;00m\u001b[38;5;21;01mcompat\u001b[39;00m\u001b[38;5;21;01m.\u001b[39;00m\u001b[38;5;21;01mpyarrow\u001b[39;00m \u001b[38;5;28;01mimport\u001b[39;00m (\n\u001b[0;32m     30\u001b[0m     pa_version_under7p0,\n\u001b[0;32m     31\u001b[0m     pa_version_under8p0,\n\u001b[0;32m     32\u001b[0m     pa_version_under9p0,\n\u001b[0;32m     33\u001b[0m     pa_version_under11p0,\n\u001b[0;32m     34\u001b[0m )\n\u001b[0;32m     37\u001b[0m \u001b[38;5;28;01mdef\u001b[39;00m \u001b[38;5;21mset_function_name\u001b[39m(f: F, name: \u001b[38;5;28mstr\u001b[39m, \u001b[38;5;28mcls\u001b[39m) \u001b[38;5;241m-\u001b[39m\u001b[38;5;241m>\u001b[39m F:\n",
      "File \u001b[1;32m~\\anaconda4\\Lib\\site-packages\\pandas\\compat\\numpy\\__init__.py:4\u001b[0m\n\u001b[0;32m      1\u001b[0m \u001b[38;5;124;03m\"\"\" support numpy compatibility across versions \"\"\"\u001b[39;00m\n\u001b[0;32m      2\u001b[0m \u001b[38;5;28;01mimport\u001b[39;00m \u001b[38;5;21;01mnumpy\u001b[39;00m \u001b[38;5;28;01mas\u001b[39;00m \u001b[38;5;21;01mnp\u001b[39;00m\n\u001b[1;32m----> 4\u001b[0m \u001b[38;5;28;01mfrom\u001b[39;00m \u001b[38;5;21;01mpandas\u001b[39;00m\u001b[38;5;21;01m.\u001b[39;00m\u001b[38;5;21;01mutil\u001b[39;00m\u001b[38;5;21;01m.\u001b[39;00m\u001b[38;5;21;01mversion\u001b[39;00m \u001b[38;5;28;01mimport\u001b[39;00m Version\n\u001b[0;32m      6\u001b[0m \u001b[38;5;66;03m# numpy versioning\u001b[39;00m\n\u001b[0;32m      7\u001b[0m _np_version \u001b[38;5;241m=\u001b[39m np\u001b[38;5;241m.\u001b[39m__version__\n",
      "File \u001b[1;32m~\\anaconda4\\Lib\\site-packages\\pandas\\util\\__init__.py:2\u001b[0m\n\u001b[0;32m      1\u001b[0m \u001b[38;5;66;03m# pyright: reportUnusedImport = false\u001b[39;00m\n\u001b[1;32m----> 2\u001b[0m \u001b[38;5;28;01mfrom\u001b[39;00m \u001b[38;5;21;01mpandas\u001b[39;00m\u001b[38;5;21;01m.\u001b[39;00m\u001b[38;5;21;01mutil\u001b[39;00m\u001b[38;5;21;01m.\u001b[39;00m\u001b[38;5;21;01m_decorators\u001b[39;00m \u001b[38;5;28;01mimport\u001b[39;00m (  \u001b[38;5;66;03m# noqa:F401\u001b[39;00m\n\u001b[0;32m      3\u001b[0m     Appender,\n\u001b[0;32m      4\u001b[0m     Substitution,\n\u001b[0;32m      5\u001b[0m     cache_readonly,\n\u001b[0;32m      6\u001b[0m )\n\u001b[0;32m      8\u001b[0m \u001b[38;5;28;01mfrom\u001b[39;00m \u001b[38;5;21;01mpandas\u001b[39;00m\u001b[38;5;21;01m.\u001b[39;00m\u001b[38;5;21;01mcore\u001b[39;00m\u001b[38;5;21;01m.\u001b[39;00m\u001b[38;5;21;01mutil\u001b[39;00m\u001b[38;5;21;01m.\u001b[39;00m\u001b[38;5;21;01mhashing\u001b[39;00m \u001b[38;5;28;01mimport\u001b[39;00m (  \u001b[38;5;66;03m# noqa:F401\u001b[39;00m\n\u001b[0;32m      9\u001b[0m     hash_array,\n\u001b[0;32m     10\u001b[0m     hash_pandas_object,\n\u001b[0;32m     11\u001b[0m )\n",
      "File \u001b[1;32m~\\anaconda4\\Lib\\site-packages\\pandas\\util\\_decorators.py:14\u001b[0m\n\u001b[0;32m      6\u001b[0m \u001b[38;5;28;01mfrom\u001b[39;00m \u001b[38;5;21;01mtyping\u001b[39;00m \u001b[38;5;28;01mimport\u001b[39;00m (\n\u001b[0;32m      7\u001b[0m     Any,\n\u001b[0;32m      8\u001b[0m     Callable,\n\u001b[0;32m      9\u001b[0m     Mapping,\n\u001b[0;32m     10\u001b[0m     cast,\n\u001b[0;32m     11\u001b[0m )\n\u001b[0;32m     12\u001b[0m \u001b[38;5;28;01mimport\u001b[39;00m \u001b[38;5;21;01mwarnings\u001b[39;00m\n\u001b[1;32m---> 14\u001b[0m \u001b[38;5;28;01mfrom\u001b[39;00m \u001b[38;5;21;01mpandas\u001b[39;00m\u001b[38;5;21;01m.\u001b[39;00m\u001b[38;5;21;01m_libs\u001b[39;00m\u001b[38;5;21;01m.\u001b[39;00m\u001b[38;5;21;01mproperties\u001b[39;00m \u001b[38;5;28;01mimport\u001b[39;00m cache_readonly\n\u001b[0;32m     15\u001b[0m \u001b[38;5;28;01mfrom\u001b[39;00m \u001b[38;5;21;01mpandas\u001b[39;00m\u001b[38;5;21;01m.\u001b[39;00m\u001b[38;5;21;01m_typing\u001b[39;00m \u001b[38;5;28;01mimport\u001b[39;00m (\n\u001b[0;32m     16\u001b[0m     F,\n\u001b[0;32m     17\u001b[0m     T,\n\u001b[0;32m     18\u001b[0m )\n\u001b[0;32m     19\u001b[0m \u001b[38;5;28;01mfrom\u001b[39;00m \u001b[38;5;21;01mpandas\u001b[39;00m\u001b[38;5;21;01m.\u001b[39;00m\u001b[38;5;21;01mutil\u001b[39;00m\u001b[38;5;21;01m.\u001b[39;00m\u001b[38;5;21;01m_exceptions\u001b[39;00m \u001b[38;5;28;01mimport\u001b[39;00m find_stack_level\n",
      "File \u001b[1;32m~\\anaconda4\\Lib\\site-packages\\pandas\\_libs\\__init__.py:13\u001b[0m\n\u001b[0;32m      1\u001b[0m __all__ \u001b[38;5;241m=\u001b[39m [\n\u001b[0;32m      2\u001b[0m     \u001b[38;5;124m\"\u001b[39m\u001b[38;5;124mNaT\u001b[39m\u001b[38;5;124m\"\u001b[39m,\n\u001b[0;32m      3\u001b[0m     \u001b[38;5;124m\"\u001b[39m\u001b[38;5;124mNaTType\u001b[39m\u001b[38;5;124m\"\u001b[39m,\n\u001b[1;32m   (...)\u001b[0m\n\u001b[0;32m      9\u001b[0m     \u001b[38;5;124m\"\u001b[39m\u001b[38;5;124mInterval\u001b[39m\u001b[38;5;124m\"\u001b[39m,\n\u001b[0;32m     10\u001b[0m ]\n\u001b[1;32m---> 13\u001b[0m \u001b[38;5;28;01mfrom\u001b[39;00m \u001b[38;5;21;01mpandas\u001b[39;00m\u001b[38;5;21;01m.\u001b[39;00m\u001b[38;5;21;01m_libs\u001b[39;00m\u001b[38;5;21;01m.\u001b[39;00m\u001b[38;5;21;01minterval\u001b[39;00m \u001b[38;5;28;01mimport\u001b[39;00m Interval\n\u001b[0;32m     14\u001b[0m \u001b[38;5;28;01mfrom\u001b[39;00m \u001b[38;5;21;01mpandas\u001b[39;00m\u001b[38;5;21;01m.\u001b[39;00m\u001b[38;5;21;01m_libs\u001b[39;00m\u001b[38;5;21;01m.\u001b[39;00m\u001b[38;5;21;01mtslibs\u001b[39;00m \u001b[38;5;28;01mimport\u001b[39;00m (\n\u001b[0;32m     15\u001b[0m     NaT,\n\u001b[0;32m     16\u001b[0m     NaTType,\n\u001b[1;32m   (...)\u001b[0m\n\u001b[0;32m     21\u001b[0m     iNaT,\n\u001b[0;32m     22\u001b[0m )\n",
      "File \u001b[1;32m~\\anaconda4\\Lib\\site-packages\\pandas\\_libs\\interval.pyx:1\u001b[0m, in \u001b[0;36minit pandas._libs.interval\u001b[1;34m()\u001b[0m\n",
      "\u001b[1;31mValueError\u001b[0m: numpy.dtype size changed, may indicate binary incompatibility. Expected 96 from C header, got 88 from PyObject"
     ]
    }
   ],
   "source": [
    "# Installing required package\n",
    "!pip install yfinance --quiet\n",
    "\n",
    "# Importing essential libraries\n",
    "import yfinance as yf\n",
    "import pandas as pd\n",
    "import numpy as np\n",
    "import matplotlib.pyplot as plt\n",
    "\n",
    "# Displaying all columns while printing DataFrames\n",
    "pd.set_option('display.max_columns', None)"
   ]
  },
  {
   "cell_type": "code",
   "execution_count": null,
   "metadata": {
    "execution": {
     "iopub.execute_input": "2025-10-28T07:05:50.416541Z",
     "iopub.status.busy": "2025-10-28T07:05:50.416183Z",
     "iopub.status.idle": "2025-10-28T07:05:50.423531Z",
     "shell.execute_reply": "2025-10-28T07:05:50.422132Z",
     "shell.execute_reply.started": "2025-10-28T07:05:50.416515Z"
    }
   },
   "outputs": [],
   "source": [
    "# Selecting 10 liquid stocks from different sectors (NSE)\n",
    "tickers = [\n",
    "    'INFY.NS', 'TCS.NS', 'RELIANCE.NS', 'HDFCBANK.NS',\n",
    "    'ITC.NS', 'LT.NS', 'HINDUNILVR.NS', 'SBIN.NS',\n",
    "    'BHARTIARTL.NS', 'MARUTI.NS'\n",
    "]\n",
    "\n",
    "# Print tickers for confirmation\n",
    "print(\"Selected tickers:\", tickers)"
   ]
  },
  {
   "cell_type": "code",
   "execution_count": null,
   "metadata": {
    "execution": {
     "iopub.execute_input": "2025-10-28T07:05:54.251008Z",
     "iopub.status.busy": "2025-10-28T07:05:54.250658Z",
     "iopub.status.idle": "2025-10-28T07:05:54.867319Z",
     "shell.execute_reply": "2025-10-28T07:05:54.866246Z",
     "shell.execute_reply.started": "2025-10-28T07:05:54.250960Z"
    }
   },
   "outputs": [],
   "source": [
    "# Downloading 10 years of historical daily data correctly for adjusted close prices\n",
    "data = yf.download(tickers, start='2015-01-01', end='2025-01-01', auto_adjust=True)\n",
    "\n",
    "# 'auto_adjust=True' means downloaded data is already adjusted for splits/dividends, so we can directly use the 'Close' column and the result will already be a DataFrame of Close prices\n",
    "\n",
    "# Displaying the first few rows\n",
    "data.head()\n"
   ]
  },
  {
   "cell_type": "code",
   "execution_count": null,
   "metadata": {
    "execution": {
     "iopub.execute_input": "2025-10-28T07:06:10.792045Z",
     "iopub.status.busy": "2025-10-28T07:06:10.791720Z",
     "iopub.status.idle": "2025-10-28T07:06:10.806455Z",
     "shell.execute_reply": "2025-10-28T07:06:10.805234Z",
     "shell.execute_reply.started": "2025-10-28T07:06:10.792025Z"
    }
   },
   "outputs": [],
   "source": [
    "# Checking missing values\n",
    "print(\"Missing values in each stock:\")\n",
    "print(data.isna().sum())\n",
    "\n",
    "# Dropping rows with missing values\n",
    "data = data.dropna()\n",
    "\n",
    "# Confirming dataset shape after cleaning\n",
    "print(\"\\nCleaned data shape:\", data.shape)"
   ]
  },
  {
   "cell_type": "code",
   "execution_count": null,
   "metadata": {
    "execution": {
     "iopub.execute_input": "2025-10-28T07:06:18.565627Z",
     "iopub.status.busy": "2025-10-28T07:06:18.565275Z",
     "iopub.status.idle": "2025-10-28T07:06:18.615485Z",
     "shell.execute_reply": "2025-10-28T07:06:18.614386Z",
     "shell.execute_reply.started": "2025-10-28T07:06:18.565595Z"
    }
   },
   "outputs": [],
   "source": [
    "# Computing log returns\n",
    "log_returns = np.log(data[\"Close\"] / data.shift(1)[\"Close\"]).dropna()\n",
    "# Displaying first few rows of log returns\n",
    "log_returns.head()"
   ]
  },
  {
   "cell_type": "code",
   "execution_count": null,
   "metadata": {
    "execution": {
     "iopub.execute_input": "2025-10-28T07:06:23.329925Z",
     "iopub.status.busy": "2025-10-28T07:06:23.328836Z",
     "iopub.status.idle": "2025-10-28T07:06:23.342668Z",
     "shell.execute_reply": "2025-10-28T07:06:23.341397Z",
     "shell.execute_reply.started": "2025-10-28T07:06:23.329891Z"
    }
   },
   "outputs": [],
   "source": [
    "# Defining periods\n",
    "in_sample = log_returns.loc['2015-01-01':'2020-12-31']\n",
    "out_sample = log_returns.loc['2021-01-01':'2022-12-31']\n",
    "\n",
    "# Printing shapes to confirm\n",
    "print(\"In-sample data shape:\", in_sample.shape)\n",
    "print(\"Out-of-sample data shape:\", out_sample.shape)\n",
    "\n",
    "# Checking the time ranges\n",
    "print(\"\\nIn-sample range:\", in_sample.index.min(), \"to\", in_sample.index.max())\n",
    "print(\"Out-of-sample range:\", out_sample.index.min(), \"to\", out_sample.index.max())"
   ]
  },
  {
   "cell_type": "code",
   "execution_count": null,
   "metadata": {
    "execution": {
     "iopub.execute_input": "2025-10-28T07:06:27.398517Z",
     "iopub.status.busy": "2025-10-28T07:06:27.398151Z",
     "iopub.status.idle": "2025-10-28T07:06:30.846870Z",
     "shell.execute_reply": "2025-10-28T07:06:30.845718Z",
     "shell.execute_reply.started": "2025-10-28T07:06:27.398492Z"
    }
   },
   "outputs": [],
   "source": [
    "# Plotting adjusted close prices\n",
    "data[\"Close\"].plot(figsize=(12, 6), title='Adjusted Close Prices (2015-2025)')\n",
    "plt.xlabel('Date')\n",
    "plt.ylabel('Price')\n",
    "plt.grid(True)\n",
    "plt.show()\n",
    "\n",
    "# Plotting log returns to inspect volatility\n",
    "log_returns.plot(figsize=(12, 6), title='Daily Log Returns')\n",
    "plt.xlabel('Date')\n",
    "plt.ylabel('Log Return')\n",
    "plt.grid(True)\n",
    "plt.show()"
   ]
  },
  {
   "cell_type": "code",
   "execution_count": null,
   "metadata": {
    "execution": {
     "iopub.execute_input": "2025-10-28T07:06:38.671701Z",
     "iopub.status.busy": "2025-10-28T07:06:38.671328Z",
     "iopub.status.idle": "2025-10-28T07:06:38.676917Z",
     "shell.execute_reply": "2025-10-28T07:06:38.675481Z",
     "shell.execute_reply.started": "2025-10-28T07:06:38.671678Z"
    }
   },
   "outputs": [],
   "source": [
    "import seaborn as sns"
   ]
  },
  {
   "cell_type": "code",
   "execution_count": null,
   "metadata": {
    "execution": {
     "iopub.execute_input": "2025-10-28T07:08:16.745095Z",
     "iopub.status.busy": "2025-10-28T07:08:16.744300Z",
     "iopub.status.idle": "2025-10-28T07:08:16.976606Z",
     "shell.execute_reply": "2025-10-28T07:08:16.975371Z",
     "shell.execute_reply.started": "2025-10-28T07:08:16.745060Z"
    }
   },
   "outputs": [],
   "source": [
    "\n",
    "# Part A.1 - Computing sample statistics for in‑sample data\n",
    "\n",
    "# Mean vector (daily)\n",
    "mean_daily = in_sample.mean()\n",
    "\n",
    "# Covariance matrix (daily)\n",
    "cov_daily = in_sample.cov()\n",
    "print(\"cov_daily\", cov_daily.shape)\n",
    "print(cov_daily)\n",
    "\n",
    "# Correlation matrix\n",
    "corr_matrix = in_sample.corr()\n",
    "\n",
    "#  Annualizing (because these are daily log‑returns)\n",
    "#  Convention: 252 trading days per year\n",
    "mean_annual = mean_daily * 252\n",
    "cov_annual = cov_daily * 252\n",
    "std_annual = np.sqrt(np.diag(cov_annual))\n",
    "\n",
    "print(\" Mean return vector (annualized):\")\n",
    "display(mean_annual.to_frame(\"Expected Annual Return\"))\n",
    "\n",
    "print(\"\\n Covariance matrix (annualized):\")\n",
    "display(cov_annual)\n",
    "\n",
    "print(\"\\n Correlation matrix:\")\n",
    "display(corr_matrix)"
   ]
  },
  {
   "cell_type": "code",
   "execution_count": null,
   "metadata": {
    "execution": {
     "iopub.execute_input": "2025-10-28T07:08:28.828021Z",
     "iopub.status.busy": "2025-10-28T07:08:28.827637Z",
     "iopub.status.idle": "2025-10-28T07:08:28.859915Z",
     "shell.execute_reply": "2025-10-28T07:08:28.858911Z",
     "shell.execute_reply.started": "2025-10-28T07:08:28.827997Z"
    }
   },
   "outputs": [],
   "source": [
    "# Computing descriptive statistics for each stock\n",
    "summary_table = pd.DataFrame({\n",
    "    \"Average Annual Return\": mean_annual,\n",
    "    \"Annual Std Dev\": std_annual,\n",
    "    \"Skewness\": in_sample.skew(),\n",
    "    \"Kurtosis\": in_sample.kurt()\n",
    "})\n",
    "\n",
    "# Rounding for better readability\n",
    "summary_table = summary_table.round(4)\n",
    "\n",
    "print(\"Descriptive Statistics — In‑Sample Period (2015–2020):\")\n",
    "display(summary_table)"
   ]
  },
  {
   "cell_type": "code",
   "execution_count": null,
   "metadata": {
    "execution": {
     "iopub.execute_input": "2025-10-28T07:08:35.054692Z",
     "iopub.status.busy": "2025-10-28T07:08:35.054333Z",
     "iopub.status.idle": "2025-10-28T07:08:39.909672Z",
     "shell.execute_reply": "2025-10-28T07:08:39.908406Z",
     "shell.execute_reply.started": "2025-10-28T07:08:35.054669Z"
    }
   },
   "outputs": [],
   "source": [
    "import seaborn as sns\n",
    "import matplotlib.pyplot as plt\n",
    "\n",
    "plt.figure(figsize=(10, 8))\n",
    "sns.heatmap(corr_matrix, annot=True, cmap=\"coolwarm\", center=0, linewidths=0.5)\n",
    "plt.title(\"Pairwise Correlation Matrix — In‑Sample Period (2015–2020)\")\n",
    "plt.show()"
   ]
  },
  {
   "cell_type": "code",
   "execution_count": null,
   "metadata": {
    "execution": {
     "iopub.execute_input": "2025-10-28T07:08:54.416989Z",
     "iopub.status.busy": "2025-10-28T07:08:54.416553Z",
     "iopub.status.idle": "2025-10-28T07:08:54.431749Z",
     "shell.execute_reply": "2025-10-28T07:08:54.430372Z",
     "shell.execute_reply.started": "2025-10-28T07:08:54.416941Z"
    }
   },
   "outputs": [],
   "source": [
    "# Ensuring clean numeric data before fitting the covariance estimator\n",
    "\n",
    "# Replacing infinite values with NaN\n",
    "in_sample_clean = in_sample.replace([np.inf, -np.inf], np.nan)\n",
    "\n",
    "# Dropping NaN rows (or you could fill them if very small number)\n",
    "in_sample_clean = in_sample_clean.dropna()\n",
    "\n",
    "# Checking that there are no issues left\n",
    "print(\"Any NaN left?\", in_sample_clean.isna().sum().sum())\n",
    "print(\"Shape after cleaning:\", in_sample_clean.shape)"
   ]
  },
  {
   "cell_type": "code",
   "execution_count": null,
   "metadata": {
    "execution": {
     "iopub.execute_input": "2025-10-28T07:09:00.386277Z",
     "iopub.status.busy": "2025-10-28T07:09:00.385855Z",
     "iopub.status.idle": "2025-10-28T07:09:00.508412Z",
     "shell.execute_reply": "2025-10-28T07:09:00.507302Z",
     "shell.execute_reply.started": "2025-10-28T07:09:00.386250Z"
    }
   },
   "outputs": [],
   "source": [
    "# ============================================================\n",
    "# Part B: Alternative Estimator Implementation — Ledoit–Wolf Shrinkage\n",
    "# ============================================================\n",
    "\n",
    "# Objective:\n",
    "# We are implementing the Ledoit–Wolf shrinkage method to estimate\n",
    "# a more stable and robust covariance matrix for asset returns.\n",
    "#\n",
    "# Formula conceptually:\n",
    "# Σ_shrink = (1 - λ) * Σ_sample + λ * F\n",
    "# where:\n",
    "#   - Σ_sample: sample covariance matrix\n",
    "#   - F: shrinkage target (identity matrix scaled by average variance)\n",
    "#   - λ: shrinkage intensity (automatically determined)\n",
    "#\n",
    "# Ledoit–Wolf built-in algorithm automatically computes F and λ.\n",
    "\n",
    "\n",
    "# Step 1: Importing the estimator\n",
    "\n",
    "from sklearn.covariance import LedoitWolf\n",
    "\n",
    "\n",
    "# Step 2: Initializing the Ledoit–Wolf shrinkage object\n",
    "\n",
    "lw = LedoitWolf()\n",
    "\n",
    "\n",
    "# Step 3: Fitting the estimator on our cleaned in-sample log returns\n",
    "\n",
    "# Using 'in_sample_clean' ensures that we have no NaN or infinite values.\n",
    "lw.fit(in_sample_clean)\n",
    "\n",
    "\n",
    "# Step 4: Extracting the estimated covariance matrix (daily)\n",
    "\n",
    "cov_lw_daily = lw.covariance_\n",
    "\n",
    "\n",
    "# Step 5: Annualizing the covariance matrix\n",
    "\n",
    "# Convention used: 252 trading days per year. So, annual covariance = daily covariance * 252\n",
    "cov_lw_annual = cov_lw_daily * 252\n",
    "\n",
    "\n",
    "# Step 6: Converting the numpy array to a well-labeled DataFrame\n",
    "\n",
    "# This helps with readability, visualization, and comparison\n",
    "cov_lw_df = pd.DataFrame(\n",
    "    cov_lw_annual,\n",
    "    index=in_sample_clean.columns,\n",
    "    columns=in_sample_clean.columns\n",
    ")\n",
    "\n",
    "# Step 7: Displaying the shrinkage covariance matrix\n",
    "\n",
    "print(\"Ledoit–Wolf Shrinkage Covariance Matrix (Annualized):\")\n",
    "display(cov_lw_df)\n",
    "\n",
    "\n",
    "# Step 8:Validation and Quick Summary and also checking for any anomalies or unreasonable covariance values\n",
    "print(\"Matrix shape:\", cov_lw_df.shape)\n",
    "print(\"Minimum covariance value:\", np.min(cov_lw_df.values))\n",
    "print(\"Maximum covariance value:\", np.max(cov_lw_df.values))\n",
    "\n"
   ]
  },
  {
   "cell_type": "code",
   "execution_count": null,
   "metadata": {
    "execution": {
     "iopub.execute_input": "2025-10-28T07:09:17.148818Z",
     "iopub.status.busy": "2025-10-28T07:09:17.148407Z",
     "iopub.status.idle": "2025-10-28T07:09:17.260168Z",
     "shell.execute_reply": "2025-10-28T07:09:17.259038Z",
     "shell.execute_reply.started": "2025-10-28T07:09:17.148793Z"
    }
   },
   "outputs": [],
   "source": [
    "# Computing difference between covariance matrices\n",
    "diff_cov = cov_annual - cov_lw_df\n",
    "\n",
    "print(\" Difference between Sample and Ledoit‑Wolf Covariance (annualized):\")\n",
    "display(diff_cov.round(6))\n",
    "\n",
    "# Comparing average variance and correlation magnitude\n",
    "avg_var_sample = np.mean(np.diag(cov_annual))\n",
    "avg_var_lw = np.mean(np.diag(cov_lw_df))\n",
    "\n",
    "print(f\"\\nAverage variance (Sample): {avg_var_sample:.6f}\")\n",
    "print(f\"Average variance (Ledoit-Wolf): {avg_var_lw:.6f}\")"
   ]
  },
  {
   "cell_type": "code",
   "execution_count": null,
   "metadata": {
    "execution": {
     "iopub.execute_input": "2025-10-28T07:11:36.508896Z",
     "iopub.status.busy": "2025-10-28T07:11:36.508563Z",
     "iopub.status.idle": "2025-10-28T07:11:36.522405Z",
     "shell.execute_reply": "2025-10-28T07:11:36.521176Z",
     "shell.execute_reply.started": "2025-10-28T07:11:36.508874Z"
    }
   },
   "outputs": [],
   "source": [
    "\n",
    "# Ensurimg both sample and Ledoit–Wolf covariance are clean\n",
    "\n",
    "\n",
    "# Reconfirming that 'in_sample_clean' has no missing or infinite values\n",
    "print(\"Checking data quality before covariance computations:\")\n",
    "print(\"Any NaN or Inf left in data? ->\", \n",
    "      in_sample_clean.replace([np.inf, -np.inf], np.nan).isna().sum().sum())\n",
    "\n",
    "# Computing clean sample-based covariance (daily)\n",
    "cov_daily_clean = in_sample_clean.cov()\n",
    "\n",
    "# Annualizing sample covariance (same convention)\n",
    "# Convention reminder:\n",
    "#   - Mean annual = daily mean × 252\n",
    "#   - Covariance annual = daily covariance × 252\n",
    "cov_annual_clean = cov_daily_clean * 252\n",
    "\n",
    "# Computing average variance (diagonals)\n",
    "avg_var_sample = np.mean(np.diag(cov_annual_clean))\n",
    "avg_var_lw = np.mean(np.diag(cov_lw_df))\n",
    "\n",
    "# Printing to compare\n",
    "print(\"\\n Comparison of Average Variance (Annualized):\")\n",
    "print(f\"Average variance (Sample, clean): {avg_var_sample:.6f}\")\n",
    "print(f\"Average variance (Ledoit-Wolf):  {avg_var_lw:.6f}\")\n",
    "\n",
    "# Sanity check difference\n",
    "if np.isnan(avg_var_sample):\n",
    "    print(\" Warning: Sample covariance still contains NaNs — check cleaning steps.\")\n",
    "else:\n",
    "    print(\" Both covariance matrices are now clean and comparable.\")"
   ]
  },
  {
   "cell_type": "code",
   "execution_count": null,
   "metadata": {
    "execution": {
     "iopub.execute_input": "2025-10-28T07:26:43.844095Z",
     "iopub.status.busy": "2025-10-28T07:26:43.843761Z",
     "iopub.status.idle": "2025-10-28T07:26:43.851006Z",
     "shell.execute_reply": "2025-10-28T07:26:43.849814Z",
     "shell.execute_reply.started": "2025-10-28T07:26:43.844074Z"
    }
   },
   "outputs": [],
   "source": [
    "# FIXING MultiIndex problem \n",
    "\n",
    "if isinstance(cov_annual_clean.columns, pd.MultiIndex):\n",
    "    cov_annual_clean.columns = cov_annual_clean.columns.get_level_values(-1)\n",
    "    cov_annual_clean.index = cov_annual_clean.index.get_level_values(-1)\n",
    "    print(\"Flattened MultiIndex in covariance matrix.\")\n",
    "else:\n",
    "    print(\"Covariance matrix already has flat column/index names.\")\n",
    "\n"
   ]
  },
  {
   "cell_type": "code",
   "execution_count": null,
   "metadata": {
    "execution": {
     "iopub.execute_input": "2025-10-28T07:26:47.073134Z",
     "iopub.status.busy": "2025-10-28T07:26:47.072509Z",
     "iopub.status.idle": "2025-10-28T07:26:47.079863Z",
     "shell.execute_reply": "2025-10-28T07:26:47.078940Z",
     "shell.execute_reply.started": "2025-10-28T07:26:47.073107Z"
    }
   },
   "outputs": [],
   "source": [
    "\n",
    "# Part C — Diversification and Portfolio Variance\n",
    "\n",
    "# Goal:\n",
    "#   - For k = 1 ... 10 stocks, compute portfolio variance of\n",
    "#     all equal‑weighted combinations.\n",
    "#   - Recording mean, 10th, 50th, 90th percentiles for each k.\n",
    "#   - Visualizing diversification effect.\n",
    "\n",
    "import itertools\n",
    "import numpy as np\n",
    "import pandas as pd\n",
    "import matplotlib.pyplot as plt\n",
    "import seaborn as sns\n",
    "\n",
    "# Confirming we have the cleaned covariance matrix from Part B\n",
    "print(\" Checking covariance matrix you will use:\")\n",
    "print(f\"Matrix dimensions: {cov_annual_clean.shape}\")\n",
    "print(f\"Ticker count: {len(cov_annual_clean.columns)}\")\n",
    "print(\"Ticker list:\", list(cov_annual_clean.columns))\n",
    "print(\"----------------------------------------------------\\n\")\n",
    "\n",
    "# Confirming annualization convention\n",
    "print(\" Annualization convention: 252 trading days/year\")\n",
    "print(\"All portfolio variances computed in ANNUALIZED terms.\\n\")"
   ]
  },
  {
   "cell_type": "code",
   "execution_count": null,
   "metadata": {
    "execution": {
     "iopub.execute_input": "2025-10-28T07:37:05.736574Z",
     "iopub.status.busy": "2025-10-28T07:37:05.736205Z",
     "iopub.status.idle": "2025-10-28T07:37:05.743656Z",
     "shell.execute_reply": "2025-10-28T07:37:05.742316Z",
     "shell.execute_reply.started": "2025-10-28T07:37:05.736550Z"
    }
   },
   "outputs": [],
   "source": [
    "\n",
    "# proper shape handling\n",
    "\n",
    "\n",
    "def portfolio_variance(cov_matrix, subset_tickers):\n",
    "    \"\"\"\n",
    "    Computes variance of an equally weighted portfolio for a given subset of tickers.\n",
    "    Handles both single- and multi-asset subsets safely.\n",
    "    -------------------------------------------------------------\n",
    "    Parameters:\n",
    "        cov_matrix: Pandas DataFrame (annualized covariance matrix)\n",
    "        subset_tickers: list/tuple of selected stock tickers\n",
    "    Returns:\n",
    "        variance (float)\n",
    "    -------------------------------------------------------------\n",
    "    \"\"\"\n",
    "    # Ensuring subset_tickers is always a list even when a single asset is passed\n",
    "    if isinstance(subset_tickers, str):\n",
    "        subset_tickers = [subset_tickers]\n",
    "    if isinstance(subset_tickers, tuple):\n",
    "        subset_tickers = list(subset_tickers)\n",
    "\n",
    "    k = len(subset_tickers)\n",
    "\n",
    "    # Extracting the covariance submatrix as a numpy array\n",
    "    sub_cov = cov_matrix.loc[subset_tickers, subset_tickers].to_numpy()\n",
    "\n",
    "    # Constructing equal weights: 1/k each\n",
    "    w = np.repeat(1 / k, k).reshape(k, 1)\n",
    "\n",
    "    # Computing portfolio variance = w'Σw\n",
    "    var_p = float(np.dot(w.T, np.dot(sub_cov, w)))\n",
    "\n",
    "    # Debugging prints for small subsets (so we can see progress)\n",
    "    if k <= 2:\n",
    "        print(f\"Subset: {subset_tickers}, Variance: {var_p:.6f}\")\n",
    "    \n",
    "    return var_p"
   ]
  },
  {
   "cell_type": "code",
   "execution_count": null,
   "metadata": {
    "execution": {
     "iopub.execute_input": "2025-10-28T07:37:09.063871Z",
     "iopub.status.busy": "2025-10-28T07:37:09.062651Z",
     "iopub.status.idle": "2025-10-28T07:37:09.074148Z",
     "shell.execute_reply": "2025-10-28T07:37:09.073046Z",
     "shell.execute_reply.started": "2025-10-28T07:37:09.063838Z"
    }
   },
   "outputs": [],
   "source": [
    "\n",
    "# Collapsing duplicate ticker labels in covariance matrix\n",
    "\n",
    "print(\"Original shape:\", cov_annual_clean.shape)\n",
    "\n",
    "# 1️Grouping by ticker name on both rows and columns and take the mean\n",
    "cov_fixed = (\n",
    "    cov_annual_clean.groupby(level=0, axis=0).mean()\n",
    "                    .groupby(level=0, axis=1).mean()\n",
    ")\n",
    "\n",
    "# Replacing the old matrix with the new clean one\n",
    "cov_annual_clean = cov_fixed.copy()\n",
    "\n",
    "# Verifying new shape and contents\n",
    "print(\" Cleaned covariance matrix to unique tickers only.\")\n",
    "print(\"New shape:\", cov_annual_clean.shape)\n",
    "print(\"Ticker list:\", list(cov_annual_clean.columns))"
   ]
  },
  {
   "cell_type": "code",
   "execution_count": null,
   "metadata": {
    "execution": {
     "iopub.execute_input": "2025-10-28T07:37:27.005964Z",
     "iopub.status.busy": "2025-10-28T07:37:27.005657Z",
     "iopub.status.idle": "2025-10-28T07:37:27.723384Z",
     "shell.execute_reply": "2025-10-28T07:37:27.722462Z",
     "shell.execute_reply.started": "2025-10-28T07:37:27.005944Z"
    }
   },
   "outputs": [],
   "source": [
    "tickers_list = list(cov_annual_clean.columns)\n",
    "results = []\n",
    "\n",
    "for k in range(1, len(tickers_list) + 1):\n",
    "    subset_vars = []\n",
    "    combs = list(itertools.combinations(tickers_list, k))\n",
    "    print(f\"Computing {len(combs)} combinations for k = {k} ...\")\n",
    "    \n",
    "    for subset in combs:\n",
    "        var_p = portfolio_variance(cov_annual_clean, subset)\n",
    "        subset_vars.append(var_p)\n",
    "    \n",
    "    mean_var = np.mean(subset_vars)\n",
    "    p10 = np.percentile(subset_vars, 10)\n",
    "    p50 = np.percentile(subset_vars, 50)\n",
    "    p90 = np.percentile(subset_vars, 90)\n",
    "    \n",
    "    print(f\"Summary for k={k}:\")\n",
    "    print(f\"  Mean : {mean_var:.6f}\")\n",
    "    print(f\"  10th : {p10:.6f}\")\n",
    "    print(f\"  50th : {p50:.6f}\")\n",
    "    print(f\"  90th : {p90:.6f}\\n\")\n",
    "    \n",
    "    results.append({\"k\": k, \"mean_variance\": mean_var, \"p10\": p10, \"p50\": p50, \"p90\": p90})\n",
    "\n",
    "diversification_df = pd.DataFrame(results)\n",
    "print(\"Finished computing all portfolio variances.\\n\")\n",
    "display(diversification_df)"
   ]
  },
  {
   "cell_type": "code",
   "execution_count": null,
   "metadata": {
    "execution": {
     "iopub.execute_input": "2025-10-28T07:46:21.157752Z",
     "iopub.status.busy": "2025-10-28T07:46:21.157404Z",
     "iopub.status.idle": "2025-10-28T07:46:21.507514Z",
     "shell.execute_reply": "2025-10-28T07:46:21.506494Z",
     "shell.execute_reply.started": "2025-10-28T07:46:21.157729Z"
    }
   },
   "outputs": [],
   "source": [
    "\n",
    "# Visualization: Diversification Effect — Portfolio Variance vs. Number of Stocks\n",
    "plt.figure(figsize=(12, 7))\n",
    "\n",
    "# Plotting mean portfolio variance (solid line with markers)\n",
    "plt.plot(\n",
    "    diversification_df[\"k\"],\n",
    "    diversification_df[\"mean_variance\"],\n",
    "    color=\"navy\",\n",
    "    marker=\"o\",\n",
    "    linewidth=2.0,\n",
    "    markersize=8,\n",
    "    label=\"Mean Portfolio Variance\"\n",
    ")\n",
    "\n",
    "\n",
    "#  Shaded area for dispersion (10th–90th percentile)\n",
    "\n",
    "plt.fill_between(\n",
    "    diversification_df[\"k\"],\n",
    "    diversification_df[\"p10\"],\n",
    "    diversification_df[\"p90\"],\n",
    "    color=\"skyblue\",\n",
    "    alpha=0.3,\n",
    "    label=\"10th–90th Percentile Range\"\n",
    ")\n",
    "\n",
    "\n",
    "# Median variance line for additional clarity!\n",
    "\n",
    "plt.plot(\n",
    "    diversification_df[\"k\"],\n",
    "    diversification_df[\"p50\"],\n",
    "    linestyle=\"--\",\n",
    "    color=\"gray\",\n",
    "    linewidth=2,\n",
    "    label=\"Median Portfolio Variance (50th %)\"\n",
    ")\n",
    "\n",
    "\n",
    "plt.text(\n",
    "    2, diversification_df[\"mean_variance\"].max() * 0.85,\n",
    "    \"Variance falls rapidly as assets are added\\n\"\n",
    "    \"→ Diversification reduces risk\",\n",
    "    fontsize=12,\n",
    "    color=\"black\",\n",
    "    bbox=dict(boxstyle=\"round,pad=0.4\", facecolor=\"white\", edgecolor=\"gray\", alpha=0.7)\n",
    ")\n",
    "\n",
    "\n",
    "# Labels, title, and formatting\n",
    "\n",
    "plt.title(\n",
    "    \"Diversification Effect: Portfolio Variance vs. Number of Stocks (Equally Weighted)\",\n",
    "    fontsize=14,\n",
    "    fontweight=\"bold\"\n",
    ")\n",
    "plt.xlabel(\"Number of Stocks in Portfolio (k)\", fontsize=12)\n",
    "plt.ylabel(\"Mean Annualized Portfolio Variance\", fontsize=12)\n",
    "plt.grid(True, linestyle=\"--\", alpha=0.6)\n",
    "plt.legend(fontsize=11, loc=\"upper right\")\n",
    "plt.tight_layout()\n",
    "\n",
    "\n",
    "# Showing the chart\n",
    "\n",
    "plt.show()\n",
    "\n",
    "\n",
    "#  Printing interpretation \n",
    "\n",
    "print(\"\\n Interpretation:\")\n",
    "print(\"• The blue line shows the mean (average) portfolio variance for equally weighted portfolios of size k.\")\n",
    "print(\"• The shaded blue band shows the spread between the 10th and 90th percentiles across all possible combinations.\")\n",
    "print(\"• As k increases, the mean variance declines sharply at first and then flattens.\")\n",
    "print(\"• The narrowing shaded band confirms that larger portfolios have more stable risk.\")\n",
    "print(\"\\n This plot visually confirms the diversification effect —\")\n",
    "print(\"   adding more assets lowers the portfolio’s total risk but with diminishing marginal benefit.\")"
   ]
  },
  {
   "cell_type": "code",
   "execution_count": null,
   "metadata": {},
   "outputs": [],
   "source": []
  }
 ],
 "metadata": {
  "kaggle": {
   "accelerator": "none",
   "dataSources": [],
   "dockerImageVersionId": 31153,
   "isGpuEnabled": false,
   "isInternetEnabled": true,
   "language": "python",
   "sourceType": "notebook"
  },
  "kernelspec": {
   "display_name": "Python 3 (ipykernel)",
   "language": "python",
   "name": "python3"
  },
  "language_info": {
   "codemirror_mode": {
    "name": "ipython",
    "version": 3
   },
   "file_extension": ".py",
   "mimetype": "text/x-python",
   "name": "python",
   "nbconvert_exporter": "python",
   "pygments_lexer": "ipython3",
   "version": "3.11.5"
  }
 },
 "nbformat": 4,
 "nbformat_minor": 4
}
