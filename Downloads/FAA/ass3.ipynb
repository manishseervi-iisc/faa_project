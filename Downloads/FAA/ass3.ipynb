{
 "cells": [
  {
   "cell_type": "code",
   "execution_count": null,
   "id": "01fc6ef4",
   "metadata": {},
   "outputs": [],
   "source": [
    "# Installing required package\n",
    "!pip install yfinance --quiet\n",
    "\n",
    "# Importing essential libraries\n",
    "import yfinance as yf\n",
    "import pandas as pd\n",
    "import numpy as np\n",
    "import matplotlib.pyplot as plt\n",
    "\n",
    "# Displaying all columns while printing DataFrames\n",
    "pd.set_option('display.max_columns', None)"
   ]
  },
  {
   "cell_type": "code",
   "execution_count": null,
   "id": "bedce160",
   "metadata": {},
   "outputs": [],
   "source": [
    "tickers = [\n",
    "    \"INFY\",        # Infosys Ltd.\n",
    "    \"TCS\",         # Tata Consultancy Services Ltd.\n",
    "    \"HCLTECH\",     # HCL Technologies Ltd.\n",
    "    \"TECHM\",       # Tech Mahindra Ltd.\n",
    "    \"WIPRO\",       # Wipro Ltd.\n",
    "    \"LTIM\",        # LTIMindtree Ltd.\n",
    "    \"PERSISTENT\",  # Persistent Systems Ltd.\n",
    "    \"COFORGE\",     # Coforge Ltd.\n",
    "    \"MPHASIS\",     # Mphasis Ltd.\n",
    "    \"OFSS\"         # Oracle Financial Services Software Ltd.\n",
    "]\n",
    "\n",
    "print(tickers)"
   ]
  },
  {
   "cell_type": "code",
   "execution_count": null,
   "id": "a16d8f1f",
   "metadata": {},
   "outputs": [],
   "source": [
    "# Downloading 10 years of historical daily data correctly for adjusted close prices\n",
    "data = yf.download(tickers, start='2015-01-01', end='2025-01-01', auto_adjust=True)\n",
    "\n",
    "# 'auto_adjust=True' means downloaded data is already adjusted for splits/dividends, so we can directly use the 'Close' column and the result will already be a DataFrame of Close prices\n",
    "\n",
    "# Displaying the first few rows\n",
    "data.head()"
   ]
  },
  {
   "cell_type": "code",
   "execution_count": null,
   "id": "2680508f",
   "metadata": {},
   "outputs": [],
   "source": [
    "# Computing log returns\n",
    "data = data / data.iloc(0)\n",
    "log_returns = np.log(data[\"Close\"] / data.shift(1)[\"Close\"]).dropna()\n",
    "\n",
    "# Displaying first few rows of log returns\n",
    "log_returns.head()"
   ]
  }
 ],
 "metadata": {
  "kernelspec": {
   "display_name": "Python 3 (ipykernel)",
   "language": "python",
   "name": "python3"
  },
  "language_info": {
   "codemirror_mode": {
    "name": "ipython",
    "version": 3
   },
   "file_extension": ".py",
   "mimetype": "text/x-python",
   "name": "python",
   "nbconvert_exporter": "python",
   "pygments_lexer": "ipython3",
   "version": "3.11.5"
  }
 },
 "nbformat": 4,
 "nbformat_minor": 5
}
